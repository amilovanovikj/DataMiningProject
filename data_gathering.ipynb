{
 "cells": [
  {
   "cell_type": "code",
   "execution_count": 4,
   "metadata": {},
   "outputs": [
    {
     "name": "stdout",
     "output_type": "stream",
     "text": [
      "{\"latitude\":41.9981,\"longitude\":21.4254,\"timezone\":\"Europe/Skopje\",\"currently\":{\"time\":1550617200,\"summary\":\"Clear\",\"icon\":\"clear-night\",\"precipIntensity\":0,\"precipProbability\":0,\"temperature\":38.3,\"apparentTemperature\":35.65,\"dewPoint\":26.78,\"humidity\":0.63,\"pressure\":1022.4,\"windSpeed\":3.7,\"windGust\":3.97,\"windBearing\":312,\"cloudCover\":0.14,\"uvIndex\":0,\"visibility\":10,\"ozone\":308.1},\"hourly\":{\"summary\":\"Clear throughout the day.\",\"icon\":\"clear-day\",\"data\":[{\"time\":1550617200,\"summary\":\"Clear\",\"icon\":\"clear-night\",\"precipIntensity\":0,\"precipProbability\":0,\"temperature\":38.3,\"apparentTemperature\":35.65,\"dewPoint\":26.78,\"humidity\":0.63,\"pressure\":1022.4,\"windSpeed\":3.7,\"windGust\":3.97,\"windBearing\":312,\"cloudCover\":0.14,\"uvIndex\":0,\"visibility\":10,\"ozone\":308.1},{\"time\":1550620800,\"summary\":\"Clear\",\"icon\":\"clear-night\",\"precipIntensity\":0,\"precipProbability\":0,\"temperature\":39.92,\"apparentTemperature\":39.92,\"dewPoint\":27.04,\"humidity\":0.6,\"pressure\":1021.3,\"windSpeed\":2.73,\"windGust\":4.05,\"windBearing\":276,\"cloudCover\":0.17,\"uvIndex\":0,\"visibility\":10,\"ozone\":313.4},{\"time\":1550624400,\"summary\":\"Clear\",\"icon\":\"clear-night\",\"precipIntensity\":0,\"precipProbability\":0,\"temperature\":38.84,\"apparentTemperature\":38.84,\"dewPoint\":26.61,\"humidity\":0.61,\"pressure\":1021.3,\"windSpeed\":2.8,\"windGust\":4.13,\"windBearing\":244,\"cloudCover\":0.24,\"uvIndex\":0,\"visibility\":10,\"ozone\":320.1},{\"time\":1550628000,\"summary\":\"Clear\",\"icon\":\"clear-night\",\"precipIntensity\":0,\"precipProbability\":0,\"temperature\":37.12,\"apparentTemperature\":35.1,\"dewPoint\":25.99,\"humidity\":0.64,\"pressure\":1021.4,\"windSpeed\":3,\"windGust\":4.14,\"windBearing\":308,\"cloudCover\":0.31,\"uvIndex\":0,\"visibility\":10,\"ozone\":327.3},{\"time\":1550631600,\"summary\":\"Partly Cloudy\",\"icon\":\"partly-cloudy-night\",\"precipIntensity\":0,\"precipProbability\":0,\"temperature\":35.65,\"apparentTemperature\":33.18,\"dewPoint\":25.11,\"humidity\":0.65,\"pressure\":1021.6,\"windSpeed\":3.21,\"windGust\":4.18,\"windBearing\":280,\"cloudCover\":0.36,\"uvIndex\":0,\"visibility\":10,\"ozone\":332.8},{\"time\":1550635200,\"summary\":\"Partly Cloudy\",\"icon\":\"partly-cloudy-night\",\"precipIntensity\":0,\"precipProbability\":0,\"temperature\":34.67,\"apparentTemperature\":31.94,\"dewPoint\":24.9,\"humidity\":0.67,\"pressure\":1021.8,\"windSpeed\":3.31,\"windGust\":4.21,\"windBearing\":315,\"cloudCover\":0.34,\"uvIndex\":0,\"visibility\":10,\"ozone\":335.6},{\"time\":1550638800,\"summary\":\"Clear\",\"icon\":\"clear-night\",\"precipIntensity\":0,\"precipProbability\":0,\"temperature\":34.18,\"apparentTemperature\":31.22,\"dewPoint\":24.36,\"humidity\":0.67,\"pressure\":1022.1,\"windSpeed\":3.45,\"windGust\":4.24,\"windBearing\":251,\"cloudCover\":0.3,\"uvIndex\":0,\"visibility\":10,\"ozone\":336.6},{\"time\":1550642400,\"summary\":\"Clear\",\"icon\":\"clear-day\",\"precipIntensity\":0,\"precipProbability\":0,\"temperature\":35,\"apparentTemperature\":32.11,\"dewPoint\":24.8,\"humidity\":0.66,\"pressure\":1022.5,\"windSpeed\":3.49,\"windGust\":4.38,\"windBearing\":281,\"cloudCover\":0.25,\"uvIndex\":0,\"visibility\":10,\"ozone\":340},{\"time\":1550646000,\"summary\":\"Clear\",\"icon\":\"clear-day\",\"precipIntensity\":0,\"precipProbability\":0,\"temperature\":39.51,\"apparentTemperature\":37.21,\"dewPoint\":27.29,\"humidity\":0.61,\"pressure\":1022.7,\"windSpeed\":3.55,\"windGust\":4.62,\"windBearing\":268,\"cloudCover\":0.17,\"uvIndex\":0,\"visibility\":10,\"ozone\":340.4},{\"time\":1550649600,\"summary\":\"Clear\",\"icon\":\"clear-day\",\"precipIntensity\":0,\"precipProbability\":0,\"temperature\":46.23,\"apparentTemperature\":44.84,\"dewPoint\":31.13,\"humidity\":0.55,\"pressure\":1022.4,\"windSpeed\":3.61,\"windGust\":4.98,\"windBearing\":345,\"cloudCover\":0.07,\"uvIndex\":1,\"visibility\":10,\"ozone\":339.8},{\"time\":1550653200,\"summary\":\"Clear\",\"icon\":\"clear-day\",\"precipIntensity\":0,\"precipProbability\":0,\"temperature\":52.56,\"apparentTemperature\":52.56,\"dewPoint\":34.32,\"humidity\":0.5,\"pressure\":1022.4,\"windSpeed\":3.82,\"windGust\":5.52,\"windBearing\":321,\"cloudCover\":0,\"uvIndex\":2,\"visibility\":10,\"ozone\":339.7},{\"time\":1550656800,\"summary\":\"Clear\",\"icon\":\"clear-day\",\"precipIntensity\":0,\"precipProbability\":0,\"temperature\":55.98,\"apparentTemperature\":55.98,\"dewPoint\":36.05,\"humidity\":0.47,\"pressure\":1022.1,\"windSpeed\":4.25,\"windGust\":6.34,\"windBearing\":324,\"cloudCover\":0,\"uvIndex\":3,\"visibility\":10,\"ozone\":340.4},{\"time\":1550660400,\"summary\":\"Clear\",\"icon\":\"clear-day\",\"precipIntensity\":0,\"precipProbability\":0,\"temperature\":58.83,\"apparentTemperature\":58.83,\"dewPoint\":37.36,\"humidity\":0.45,\"pressure\":1022.1,\"windSpeed\":4.81,\"windGust\":7.33,\"windBearing\":337,\"cloudCover\":0,\"uvIndex\":3,\"visibility\":10,\"ozone\":341.5},{\"time\":1550664000,\"summary\":\"Clear\",\"icon\":\"clear-day\",\"precipIntensity\":0,\"precipProbability\":0,\"temperature\":60.66,\"apparentTemperature\":60.66,\"dewPoint\":35.41,\"humidity\":0.39,\"pressure\":1021.2,\"windSpeed\":6.27,\"windGust\":9.44,\"windBearing\":4,\"cloudCover\":0,\"uvIndex\":3,\"visibility\":10,\"ozone\":339.6},{\"time\":1550667600,\"summary\":\"Clear\",\"icon\":\"clear-day\",\"precipIntensity\":0,\"precipProbability\":0,\"temperature\":61.1,\"apparentTemperature\":61.1,\"dewPoint\":35.79,\"humidity\":0.39,\"pressure\":1021.3,\"windSpeed\":6.36,\"windGust\":10.33,\"windBearing\":5,\"cloudCover\":0,\"uvIndex\":2,\"visibility\":10,\"ozone\":341.5},{\"time\":1550671200,\"summary\":\"Clear\",\"icon\":\"clear-day\",\"precipIntensity\":0,\"precipProbability\":0,\"temperature\":60.05,\"apparentTemperature\":60.05,\"dewPoint\":36.36,\"humidity\":0.41,\"pressure\":1021,\"windSpeed\":6.15,\"windGust\":10.94,\"windBearing\":0,\"cloudCover\":0,\"uvIndex\":1,\"visibility\":10,\"ozone\":344.1},{\"time\":1550674800,\"summary\":\"Clear\",\"icon\":\"clear-day\",\"precipIntensity\":0,\"precipProbability\":0,\"temperature\":56.65,\"apparentTemperature\":56.65,\"dewPoint\":36.06,\"humidity\":0.46,\"pressure\":1021.3,\"windSpeed\":5.87,\"windGust\":10.82,\"windBearing\":356,\"cloudCover\":0,\"uvIndex\":0,\"visibility\":10,\"ozone\":346},{\"time\":1550678400,\"summary\":\"Clear\",\"icon\":\"clear-day\",\"precipIntensity\":0,\"precipProbability\":0,\"temperature\":53.39,\"apparentTemperature\":53.39,\"dewPoint\":35.15,\"humidity\":0.5,\"pressure\":1021.9,\"windSpeed\":5.24,\"windGust\":9.37,\"windBearing\":346,\"cloudCover\":0,\"uvIndex\":0,\"visibility\":10,\"ozone\":346.8},{\"time\":1550682000,\"summary\":\"Clear\",\"icon\":\"clear-night\",\"precipIntensity\":0,\"precipProbability\":0,\"temperature\":48.93,\"apparentTemperature\":47.37,\"dewPoint\":33.58,\"humidity\":0.55,\"pressure\":1023.1,\"windSpeed\":4.38,\"windGust\":7.2,\"windBearing\":333,\"cloudCover\":0,\"uvIndex\":0,\"visibility\":10,\"ozone\":346.9},{\"time\":1550685600,\"summary\":\"Clear\",\"icon\":\"clear-night\",\"precipIntensity\":0,\"precipProbability\":0,\"temperature\":45,\"apparentTemperature\":42.94,\"dewPoint\":31.7,\"humidity\":0.59,\"pressure\":1023.4,\"windSpeed\":4.18,\"windGust\":6.17,\"windBearing\":328,\"cloudCover\":0,\"uvIndex\":0,\"visibility\":10,\"ozone\":348},{\"time\":1550689200,\"summary\":\"Clear\",\"icon\":\"clear-night\",\"precipIntensity\":0,\"precipProbability\":0,\"temperature\":42.39,\"apparentTemperature\":40.14,\"dewPoint\":29.98,\"humidity\":0.61,\"pressure\":1024.2,\"windSpeed\":3.93,\"windGust\":5.81,\"windBearing\":319,\"cloudCover\":0.03,\"uvIndex\":0,\"visibility\":10,\"ozone\":346.5},{\"time\":1550692800,\"summary\":\"Clear\",\"icon\":\"clear-night\",\"precipIntensity\":0,\"precipProbability\":0,\"temperature\":40.36,\"apparentTemperature\":37.84,\"dewPoint\":28.58,\"humidity\":0.63,\"pressure\":1024.2,\"windSpeed\":3.89,\"windGust\":5.95,\"windBearing\":317,\"cloudCover\":0.07,\"uvIndex\":0,\"visibility\":10,\"ozone\":344.2},{\"time\":1550696400,\"summary\":\"Clear\",\"icon\":\"clear-night\",\"precipIntensity\":0,\"precipProbability\":0,\"temperature\":38.78,\"apparentTemperature\":36.15,\"dewPoint\":27.88,\"humidity\":0.65,\"pressure\":1024.7,\"windSpeed\":3.75,\"windGust\":6.07,\"windBearing\":313,\"cloudCover\":0.11,\"uvIndex\":0,\"visibility\":10,\"ozone\":342.6},{\"time\":1550700000,\"summary\":\"Clear\",\"icon\":\"clear-night\",\"precipIntensity\":0,\"precipProbability\":0,\"temperature\":37.68,\"apparentTemperature\":34.96,\"dewPoint\":27.56,\"humidity\":0.67,\"pressure\":1025,\"windSpeed\":3.68,\"windGust\":5.97,\"windBearing\":312,\"cloudCover\":0.15,\"uvIndex\":0,\"visibility\":10,\"ozone\":341.5}]},\"daily\":{\"data\":[{\"time\":1550617200,\"summary\":\"Clear throughout the day.\",\"icon\":\"clear-day\",\"sunriseTime\":1550640300,\"sunsetTime\":1550679240,\"moonPhase\":0.55,\"precipIntensity\":0.0001,\"precipIntensityMax\":0.0002,\"precipIntensityMaxTime\":1550622300,\"precipProbability\":0.03,\"precipType\":\"rain\",\"temperatureHigh\":61.63,\"temperatureHighTime\":1550666880,\"temperatureLow\":32.19,\"temperatureLowTime\":1550727480,\"apparentTemperatureHigh\":61.13,\"apparentTemperatureHighTime\":1550666880,\"apparentTemperatureLow\":29.56,\"apparentTemperatureLowTime\":1550727780,\"dewPoint\":30.55,\"humidity\":0.56,\"pressure\":1022.3,\"windSpeed\":4.16,\"windGust\":11.01,\"windGustTime\":1550672880,\"windBearing\":326,\"cloudCover\":0.11,\"uvIndex\":3,\"uvIndexTime\":1550659740,\"visibility\":10,\"ozone\":338.2,\"temperatureMin\":33.69,\"temperatureMinTime\":1550638500,\"temperatureMax\":61.63,\"temperatureMaxTime\":1550666880,\"apparentTemperatureMin\":31.21,\"apparentTemperatureMinTime\":1550638680,\"apparentTemperatureMax\":61.13,\"apparentTemperatureMaxTime\":1550666880}]},\"flags\":{\"sources\":[\"cmc\",\"gfs\",\"icon\",\"isd\",\"madis\"],\"nearest-station\":10.377,\"units\":\"us\"},\"offset\":1}\n",
      "\n"
     ]
    }
   ],
   "source": [
    "# import requests\n",
    "\n",
    "# url = \"https://dark-sky.p.rapidapi.com/41.9981,21.4254,2019-02-20T00:00:00\"\n",
    "\n",
    "# headers = {\n",
    "#     'x-rapidapi-host': \"dark-sky.p.rapidapi.com\",\n",
    "#     'x-rapidapi-key': \"5fe2ffa764msh328b69d074ce23ep1a2152jsn73ead2a70ea8\"\n",
    "#     }\n",
    "\n",
    "# response = requests.request(\"GET\", url, headers=headers)\n",
    "\n",
    "# print(response.text)"
   ]
  },
  {
   "cell_type": "code",
   "execution_count": null,
   "metadata": {},
   "outputs": [],
   "source": []
  }
 ],
 "metadata": {
  "kernelspec": {
   "display_name": "Python 3",
   "language": "python",
   "name": "python3"
  },
  "language_info": {
   "codemirror_mode": {
    "name": "ipython",
    "version": 3
   },
   "file_extension": ".py",
   "mimetype": "text/x-python",
   "name": "python",
   "nbconvert_exporter": "python",
   "pygments_lexer": "ipython3",
   "version": "3.7.6"
  }
 },
 "nbformat": 4,
 "nbformat_minor": 4
}
